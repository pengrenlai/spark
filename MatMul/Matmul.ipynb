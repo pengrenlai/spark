{
 "cells": [
  {
   "cell_type": "code",
   "execution_count": 14,
   "metadata": {},
   "outputs": [],
   "source": [
    "sc.stop()\n",
    "from pyspark import SparkConf, SparkContext\n",
    "from operator import add\n",
    "sc = SparkContext()\n",
    "\n",
    "def toTupleM(x):\n",
    "    e = x.split(',')\n",
    "    return (e[2], (e[1], e[3]))\n",
    "\n",
    "def toTupleN(x):\n",
    "    e = x.split(',')\n",
    "    return (e[1], (e[2], e[3]))\n",
    "\n",
    "text_file = sc.textFile(r\"500input.txt\")\n",
    "mat_M = text_file.filter(lambda x : x.split(',')[0] == 'M').map(toTupleM)\n",
    "mat_N = text_file.filter(lambda x : x.split(',')[0] == 'N').map(toTupleN)\n",
    "output = mat_M.join(mat_N).map(lambda x : ((x[1][0][0], x[1][1][0]), int(x[1][0][1])*int(x[1][1][1]))).reduceByKey(add)\n",
    "\n",
    "output_file = open(\"output.txt\", \"w\")\n",
    "\n",
    "output_file.write(''.join(str(e)+'\\n' for e in output.collect()))\n",
    "output_file.close()"
   ]
  },
  {
   "cell_type": "code",
   "execution_count": null,
   "metadata": {},
   "outputs": [],
   "source": []
  }
 ],
 "metadata": {
  "kernelspec": {
   "display_name": "Python 3",
   "language": "python",
   "name": "python3"
  },
  "language_info": {
   "codemirror_mode": {
    "name": "ipython",
    "version": 3
   },
   "file_extension": ".py",
   "mimetype": "text/x-python",
   "name": "python",
   "nbconvert_exporter": "python",
   "pygments_lexer": "ipython3",
   "version": "3.6.6"
  }
 },
 "nbformat": 4,
 "nbformat_minor": 2
}
