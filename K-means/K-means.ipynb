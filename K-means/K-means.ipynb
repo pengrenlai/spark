{
 "cells": [
  {
   "cell_type": "code",
   "execution_count": 47,
   "metadata": {},
   "outputs": [
    {
     "name": "stdout",
     "output_type": "stream",
     "text": [
      "623660345.3064111\n",
      "509862908.297545\n",
      "485480681.872008\n",
      "463997011.6850126\n",
      "460969266.57299656\n",
      "460537847.9827681\n",
      "460313099.6535454\n",
      "460003523.88940746\n",
      "459570539.31773514\n",
      "459021103.3422911\n",
      "458490656.191981\n",
      "457944232.58797437\n",
      "457558005.19867694\n",
      "457290136.3523022\n",
      "457050555.05956286\n",
      "456892235.615355\n",
      "456703630.73703384\n",
      "456404203.01897496\n",
      "456177800.5419934\n",
      "455986871.02734596\n"
     ]
    }
   ],
   "source": [
    "sc.stop()\n",
    "from pyspark import SparkConf, SparkContext\n",
    "from operator import add\n",
    "import numpy as np\n",
    "import math\n",
    "import sys\n",
    "\n",
    "sc = SparkContext()\n",
    "\n",
    "data_file = sc.textFile(r\"data.txt\")\n",
    "centroid_file = sc.textFile(r\"c1.txt\")\n",
    "\n",
    "def parsePoints(x):\n",
    "    return np.array([float(e) for e in x.split(' ')])\n",
    "\n",
    "def findClosetCentroid(point, centroids):\n",
    "    \n",
    "    min_dis = sys.float_info.max\n",
    "    min_id = -1\n",
    "    for i in range(len(centroids)):\n",
    "        dis = numpy.linalg.norm(point - centroids[i]) #Euclidean distance\n",
    "        if dis < min_dis:\n",
    "            min_dis = dis\n",
    "            min_id = i+1\n",
    "    \n",
    "    return (min_id, (math.pow(min_dis, 2), point, 1))        \n",
    "    \n",
    "data_points = data_file.map(lambda x: parsePoints(x)).cache()\n",
    "centroids = centroid_file.map(lambda x: parsePoints(x)).collect()\n",
    "distance_c1 = []\n",
    "for i in range(20):\n",
    "    closest = data_points.map(lambda x: findClosetCentroid(x, centroids))\n",
    "    new_centroids = closest.reduceByKey(lambda x, y: (x[0]+y[0], x[1]+y[1], x[2]+y[2]))\\\n",
    "                        .map(lambda x: (x[0], (x[1][0], x[1][1]/x[1][2]))).collect()\n",
    "\n",
    "    distance = sum(d for (c, (d,p)) in new_centroids)\n",
    "    print(distance)\n",
    "    distance_c1.append(distance)\n",
    "    for (c, (d,p)) in new_centroids:\n",
    "        centroids[c-1] = p"
   ]
  },
  {
   "cell_type": "code",
   "execution_count": 48,
   "metadata": {},
   "outputs": [
    {
     "name": "stdout",
     "output_type": "stream",
     "text": [
      "438747790.0279171\n",
      "249803933.62600327\n",
      "194494814.40631258\n",
      "169804841.45154303\n",
      "156295748.80627608\n",
      "149094208.10896617\n",
      "142508531.61961526\n",
      "132303869.40652977\n",
      "117170969.83719069\n",
      "108547377.17857003\n",
      "102237203.317996\n",
      "98278015.74975675\n",
      "95630226.12177394\n",
      "93793314.051193\n",
      "92377131.96821071\n",
      "91541606.25423889\n",
      "91045573.83042462\n",
      "90752240.101408\n",
      "90470170.18122734\n",
      "90216416.17563123\n"
     ]
    }
   ],
   "source": [
    "data_file = sc.textFile(r\"data.txt\")\n",
    "centroid_file = sc.textFile(r\"c2.txt\")\n",
    "\n",
    "def parsePoints(x):\n",
    "    return np.array([float(e) for e in x.split(' ')])\n",
    "\n",
    "def findClosetCentroid(point, centroids):\n",
    "    \n",
    "    min_dis = sys.float_info.max\n",
    "    min_id = -1\n",
    "    for i in range(len(centroids)):\n",
    "        dis = numpy.linalg.norm(point - centroids[i]) #Euclidean distance\n",
    "        if dis < min_dis:\n",
    "            min_dis = dis\n",
    "            min_id = i+1\n",
    "    \n",
    "    return (min_id, (math.pow(min_dis, 2), point, 1))        \n",
    "    \n",
    "data_points = data_file.map(lambda x: parsePoints(x)).cache()\n",
    "centroids = centroid_file.map(lambda x: parsePoints(x)).collect()\n",
    "distance_c2 = []\n",
    "for i in range(20):\n",
    "    closest = data_points.map(lambda x: findClosetCentroid(x, centroids))\n",
    "    new_centroids = closest.reduceByKey(lambda x, y: (x[0]+y[0], x[1]+y[1], x[2]+y[2]))\\\n",
    "                        .map(lambda x: (x[0], (x[1][0], x[1][1]/x[1][2]))).collect()\n",
    "\n",
    "    distance = sum(d for (c, (d,p)) in new_centroids)\n",
    "    print(distance)\n",
    "    distance_c2.append(distance)\n",
    "    for (c, (d,p)) in new_centroids:\n",
    "        centroids[c-1] = p"
   ]
  },
  {
   "cell_type": "code",
   "execution_count": 50,
   "metadata": {},
   "outputs": [
    {
     "data": {
      "text/plain": [
       "[<matplotlib.lines.Line2D at 0x243adf6e550>]"
      ]
     },
     "execution_count": 50,
     "metadata": {},
     "output_type": "execute_result"
    },
    {
     "data": {
      "image/png": "[encoded data removed]",
      "text/plain": [
       "<Figure size 432x288 with 1 Axes>"
      ]
     },
     "metadata": {
      "needs_background": "light"
     },
     "output_type": "display_data"
    }
   ],
   "source": [
    "%matplotlib inline\n",
    "import matplotlib.pyplot as plt\n",
    "plt.plot(distance_c1)\n",
    "plt.plot(distance_c2)"
   ]
  },
  {
   "cell_type": "code",
   "execution_count": null,
   "metadata": {},
   "outputs": [],
   "source": []
  }
 ],
 "metadata": {
  "kernelspec": {
   "display_name": "Python 3",
   "language": "python",
   "name": "python3"
  },
  "language_info": {
   "codemirror_mode": {
    "name": "ipython",
    "version": 3
   },
   "file_extension": ".py",
   "mimetype": "text/x-python",
   "name": "python",
   "nbconvert_exporter": "python",
   "pygments_lexer": "ipython3",
   "version": "3.6.6"
  }
 },
 "nbformat": 4,
 "nbformat_minor": 2
}
